{
 "cells": [
  {
   "cell_type": "markdown",
   "metadata": {},
   "source": [
    "# Morocco Travel Chatbot\n",
    "This notebook demonstrates how to build a simple chatbot using Natural Language Processing (NLP) techniques to answer frequently asked questions (FAQs) about traveling to Morocco. The chatbot uses the NLTK library for processing and generating responses.\n",
    "\n",
    "## Requirements\n",
    "- Python 3.x\n",
    "- NLTK\n",
    "- SpaCy\n",
    "\n",
    "## Installation\n",
    "Run the following cells to install the necessary libraries and download the SpaCy language model."
   ]
  },
  {
   "cell_type": "code",
   "execution_count": 1,
   "metadata": {},
   "outputs": [],
   "source": [
    "!pip install nltk spacy"
   ]
  },
  {
   "cell_type": "code",
   "execution_count": 2,
   "metadata": {},
   "outputs": [],
   "source": [
    "!python -m spacy download en_core_web_sm"
   ]
  },
  {
   "cell_type": "markdown",
   "metadata": {},
   "source": [
    "## Import Necessary Libraries\n",
    "Import the required libraries for building the chatbot."
   ]
  },
  {
   "cell_type": "code",
   "execution_count": 3,
   "metadata": {},
   "outputs": [],
   "source": [
    "import nltk\n",
    "import spacy\n",
    "from nltk.chat.util import Chat, reflections"
   ]
  },
  {
   "cell_type": "markdown",
   "metadata": {},
   "source": [
    "## Load SpaCy Model\n",
    "Load the SpaCy language model."
   ]
  },
  {
   "cell_type": "code",
   "execution_count": 4,
   "metadata": {},
   "outputs": [],
   "source": [
    "nlp = spacy.load(\"en_core_web_sm\")"
   ]
  },
  {
   "cell_type": "markdown",
   "metadata": {},
   "source": [
    "## Define Chatbot Pairs\n",
    "Define the pairs of patterns and responses for the chatbot."
   ]
  },
  {
   "cell_type": "code",
   "execution_count": 5,
   "metadata": {},
   "outputs": [],
   "source": [
    "pairs = [\n",
    "    [\n",
    "        r\"hi|hello|hey\",\n",
    "        [\"Hello! How can I help you with your travel plans to Morocco?\",]\n",
    "    ],\n",
    "    [\n",
    "        r\"what is the best time to visit morocco\",\n",
    "        [\"The best time to visit Morocco is during the spring (March to May) or fall (September to November) when the weather is warm and pleasant.\",]\n",
    "    ],\n",
    "    [\n",
    "        r\"do i need a visa to visit morocco\",\n",
    "        [\"It depends on your nationality. Many nationalities can enter Morocco without a visa for stays up to 90 days. Please check with the Moroccan consulate for specific requirements.\",]\n",
    "    ],\n",
    "    [\n",
    "        r\"what are some must-see attractions in morocco\",\n",
    "        [\"Some must-see attractions in Morocco include Marrakech's Medina, Fes's Al Quaraouiyine University, the Sahara Desert, the Atlas Mountains, and the coastal city of Essaouira.\",]\n",
    "    ],\n",
    "    [\n",
    "        r\"is morocco safe for tourists\",\n",
    "        [\"Yes, Morocco is generally safe for tourists. However, it's always good to stay vigilant and follow local advice, especially in crowded areas and tourist spots.\",]\n",
    "    ],\n",
    "    [\n",
    "        r\"what currency is used in morocco\",\n",
    "        [\"The currency used in Morocco is the Moroccan Dirham (MAD).\",]\n",
    "    ],\n",
    "    [\n",
    "        r\"what languages are spoken in morocco\",\n",
    "        [\"The official languages of Morocco are Arabic and Berber. French is also widely spoken, and English is increasingly spoken in tourist areas.\",]\n",
    "    ],\n",
    "    [\n",
    "        r\"how can i get around in morocco\",\n",
    "        [\"You can get around Morocco using various modes of transport such as trains, buses, taxis, and rental cars. Trains are a comfortable and efficient way to travel between major cities.\",]\n",
    "    ],\n",
    "    [\n",
    "        r\"what should i pack for my trip to morocco\",\n",
    "        [\"When packing for Morocco, consider the season and regions you'll visit. Generally, pack light clothing, comfortable shoes, a hat, sunscreen, and modest clothing for visiting religious sites.\",]\n",
    "    ],\n",
    "    [\n",
    "        r\"goodbye|bye\",\n",
    "        [\"Goodbye! Have a great trip to Morocco!\",]\n",
    "    ],\n",
    "]"
   ]
  },
  {
   "cell_type": "markdown",
   "metadata": {},
   "source": [
    "## Create Chatbot\n",
    "Create a chatbot using the defined pairs."
   ]
  },
  {
   "cell_type": "code",
   "execution_count": 6,
   "metadata": {},
   "outputs": [],
   "source": [
    "chatbot = Chat(pairs, reflections)"
   ]
  },
  {
   "cell_type": "markdown",
   "metadata": {},
   "source": [
    "## Start Conversation\n",
    "Define a function to start the conversation with the chatbot. This function will keep running until the user types 'quit'."
   ]
  },
  {
   "cell_type": "code",
   "execution_count": 7,
   "metadata": {},
   "outputs": [],
   "source": [
    "def morocco_travel_chatbot():\n",
    "    print(\"Hello! I am here to help you with your travel plans to Morocco. Type 'quit' to end the conversation.\")\n",
    "    while True:\n",
    "        user_input = input(\"You: \")\n",
    "        if user_input.lower() == \"quit\":\n",
    "            print(\"Chatbot: Goodbye! Have a great trip to Morocco!\")\n",
    "            break\n",
    "        response = chatbot.respond(user_input)\n",
    "        print(\"Chatbot:\", response)"
   ]
  },
  {
   "cell_type": "markdown",
   "metadata": {},
   "source": [
    "## Run the Chatbot\n",
    "Start the chatbot by running the function below. Interact with the chatbot by typing your questions. Type 'quit' to end the conversation."
   ]
  },
  {
   "cell_type": "code",
   "execution_count": 8,
   "metadata": {
    "trusted": true
   },
   "outputs": [],
   "source": [
    "if __name__ == \"__main__\":\n",
    "    morocco_travel_chatbot()"
   ]
  }
 ],
 "metadata": {
  "kernelspec": {
   "display_name": "Python 3",
   "language": "python",
   "name": "python3"
  },
  "language_info": {
   "codemirror_mode": {
    "name": "ipython",
    "version": 3
   },
   "file_extension": ".py",
    "mimetype": "text/x-python",
    "name": "python",
    "nbconvert_exporter": "python",
    "pygments_lexer": "ipython3",
    "version": "3.8.5"
   }
 },
 "nbformat": 4,
 "nbformat_minor": 4
}